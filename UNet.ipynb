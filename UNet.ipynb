{
  "nbformat": 4,
  "nbformat_minor": 0,
  "metadata": {
    "colab": {
      "provenance": [],
      "mount_file_id": "147Xc9WjB97BLtXhsPZ4Q2WnXXAkIOWZ8",
      "authorship_tag": "ABX9TyN3rPn2aGmI/WHyyyh6+ojm",
      "include_colab_link": true
    },
    "kernelspec": {
      "name": "python3",
      "display_name": "Python 3"
    },
    "language_info": {
      "name": "python"
    }
  },
  "cells": [
    {
      "cell_type": "markdown",
      "metadata": {
        "id": "view-in-github",
        "colab_type": "text"
      },
      "source": [
        "<a href=\"https://colab.research.google.com/github/eR3R3/EEG_Classification/blob/main/UNet.ipynb\" target=\"_parent\"><img src=\"https://colab.research.google.com/assets/colab-badge.svg\" alt=\"Open In Colab\"/></a>"
      ]
    },
    {
      "cell_type": "code",
      "source": [
        "import torch\n",
        "from torch import nn\n",
        "import numpy as np\n",
        "import torch.optim as optim\n",
        "import os\n",
        "import yaml\n",
        "from torch.utils.data import Dataset, DataLoader\n",
        "from torchvision import transforms\n",
        "from PIL import Image\n",
        "from typing import Dict, List, Optional, Union, Tuple, Iterable"
      ],
      "metadata": {
        "id": "QAuTbddfaxeL"
      },
      "execution_count": null,
      "outputs": []
    },
    {
      "cell_type": "code",
      "source": [
        "device = torch.device('cpu')\n",
        "print(device)\n",
        "\n",
        "import torch.nn.functional as F\n",
        "\n",
        "class UNet(nn.Module):\n",
        "    def __init__(self):\n",
        "        super(UNet, self).__init__()\n",
        "\n",
        "        # 编码器部分（下采样）\n",
        "        self.enc1 = self.conv_block(3, 320)\n",
        "        self.enc2 = self.conv_block(320, 640)\n",
        "        self.enc3 = self.conv_block(640, 1280)\n",
        "\n",
        "        # 解码器部分（上采样）\n",
        "        self.upconv3 = self.upconv_block(1280, 640)\n",
        "        self.upconv2 = self.upconv_block(640, 320)\n",
        "\n",
        "        # 全局池化 + 最终全连接层\n",
        "        self.global_avg_pool = nn.AdaptiveAvgPool2d(1)  # 池化到 (batch_size, 320, 1, 1)\n",
        "        self.fc = nn.Linear(320, 10)  # 输出 (batch_size, 10)\n",
        "\n",
        "    def conv_block(self, in_channels, out_channels):\n",
        "        block = nn.Sequential(\n",
        "            nn.Conv2d(in_channels, out_channels, kernel_size=3, padding=1),\n",
        "            nn.ReLU(inplace=True),\n",
        "            nn.BatchNorm2d(out_channels),\n",
        "            nn.Conv2d(out_channels, out_channels, kernel_size=3, padding=1),\n",
        "            nn.ReLU(inplace=True),\n",
        "            nn.BatchNorm2d(out_channels),\n",
        "        )\n",
        "        return block\n",
        "\n",
        "    def upconv_block(self, in_channels, out_channels):\n",
        "        block = nn.Sequential(\n",
        "            nn.ConvTranspose2d(in_channels, out_channels, kernel_size=2, stride=2),\n",
        "            nn.ReLU(inplace=True),\n",
        "            nn.BatchNorm2d(out_channels),\n",
        "        )\n",
        "        return block\n",
        "\n",
        "    def forward(self, x):\n",
        "        # 编码器部分\n",
        "        enc1_out = self.enc1(x)  # (batch_size, 320, H, W)\n",
        "        enc2_out = self.enc2(enc1_out)  # (batch_size, 640, H//2, W//2)\n",
        "        enc3_out = self.enc3(enc2_out)  # (batch_size, 1280, H//4, W//4)\n",
        "\n",
        "        # 解码器部分\n",
        "        upconv3_out = self.upconv3(enc3_out)  # (batch_size, 640, H//2, W//2)\n",
        "        upconv3_out = F.interpolate(upconv3_out, size=enc2_out.shape[2:])  # 调整形状\n",
        "        upconv3_out = upconv3_out + enc2_out  # 跳跃连接\n",
        "\n",
        "        upconv2_out = self.upconv2(upconv3_out)  # (batch_size, 320, H, W)\n",
        "        upconv2_out = F.interpolate(upconv2_out, size=enc1_out.shape[2:])  # 调整形状\n",
        "        upconv2_out = upconv2_out + enc1_out  # 跳跃连接\n",
        "\n",
        "        # 全局池化和分类\n",
        "        out = self.global_avg_pool(upconv2_out)  # (batch_size, 320, 1, 1)\n",
        "        out = out.view(out.size(0), -1)  # (batch_size, 320)\n",
        "        out = self.fc(out)  # (batch_size, 10)\n",
        "        return out\n",
        "\n"
      ],
      "metadata": {
        "id": "z7yUrVzxac2C",
        "colab": {
          "base_uri": "https://localhost:8080/"
        },
        "outputId": "2434d678-9ace-493e-d69d-e9b47a350873"
      },
      "execution_count": null,
      "outputs": [
        {
          "output_type": "stream",
          "name": "stdout",
          "text": [
            "cpu\n"
          ]
        }
      ]
    },
    {
      "cell_type": "code",
      "source": [
        "def unpickle(file):\n",
        "    import pickle\n",
        "    with open(file, 'rb') as fo:\n",
        "        dict = pickle.load(fo, encoding='bytes')\n",
        "    return dict\n",
        "\n",
        "meta_file_path = \"/content/drive/MyDrive/dataset/cifer_10/batches.meta\"\n",
        "meta_file = unpickle(meta_file_path)\n",
        "label_name = meta_file[b'label_names']\n",
        "label_name = [byte.decode() for byte in label_name]\n",
        "print(label_name[0])\n"
      ],
      "metadata": {
        "id": "5toUffxFa78U",
        "colab": {
          "base_uri": "https://localhost:8080/"
        },
        "outputId": "a0a64d30-ac03-41b2-dc08-a5d7ca108c2c"
      },
      "execution_count": null,
      "outputs": [
        {
          "output_type": "stream",
          "name": "stdout",
          "text": [
            "airplane\n"
          ]
        }
      ]
    },
    {
      "cell_type": "code",
      "source": [
        "def unpickle(file):\n",
        "    import pickle\n",
        "    with open(file, 'rb') as fo:\n",
        "        dict = pickle.load(fo, encoding='bytes')\n",
        "    return dict\n",
        "\n",
        "file = \"/content/drive/MyDrive/dataset/cifer_10/data_batch_1\"\n",
        "img_data = unpickle(file)\n",
        "img_data_keys = list(img_data.keys())[:4]\n",
        "img_filename = img_data[b'filenames']\n",
        "img_label = img_data[b'labels']\n",
        "img_data = img_data[b'data']\n",
        "img_data = torch.from_numpy(img_data)\n",
        "img_label = torch.tensor(img_label)\n",
        "img_data = img_data.to(device)\n",
        "img_label = img_label.to(device)\n",
        "print(img_data_keys)\n",
        "print(img_data.shape)\n",
        "print(img_label.shape)"
      ],
      "metadata": {
        "colab": {
          "base_uri": "https://localhost:8080/"
        },
        "id": "w3aWMEyAcDiw",
        "outputId": "efda9e2c-f17f-43c2-ef30-83bd17524adc"
      },
      "execution_count": null,
      "outputs": [
        {
          "output_type": "stream",
          "name": "stdout",
          "text": [
            "[b'batch_label', b'labels', b'data', b'filenames']\n",
            "torch.Size([10000, 3072])\n",
            "torch.Size([10000])\n"
          ]
        }
      ]
    },
    {
      "cell_type": "code",
      "source": [
        "vision_model = UNet()\n",
        "vision_model.to(device)"
      ],
      "metadata": {
        "colab": {
          "base_uri": "https://localhost:8080/"
        },
        "id": "ucenih1Sdl0C",
        "outputId": "d46cda64-2ed3-4291-8d3b-5a0bb73c5d92"
      },
      "execution_count": null,
      "outputs": [
        {
          "output_type": "execute_result",
          "data": {
            "text/plain": [
              "UNet(\n",
              "  (enc1): Sequential(\n",
              "    (0): Conv2d(3, 320, kernel_size=(3, 3), stride=(1, 1), padding=(1, 1))\n",
              "    (1): ReLU(inplace=True)\n",
              "    (2): BatchNorm2d(320, eps=1e-05, momentum=0.1, affine=True, track_running_stats=True)\n",
              "    (3): Conv2d(320, 320, kernel_size=(3, 3), stride=(1, 1), padding=(1, 1))\n",
              "    (4): ReLU(inplace=True)\n",
              "    (5): BatchNorm2d(320, eps=1e-05, momentum=0.1, affine=True, track_running_stats=True)\n",
              "  )\n",
              "  (enc2): Sequential(\n",
              "    (0): Conv2d(320, 640, kernel_size=(3, 3), stride=(1, 1), padding=(1, 1))\n",
              "    (1): ReLU(inplace=True)\n",
              "    (2): BatchNorm2d(640, eps=1e-05, momentum=0.1, affine=True, track_running_stats=True)\n",
              "    (3): Conv2d(640, 640, kernel_size=(3, 3), stride=(1, 1), padding=(1, 1))\n",
              "    (4): ReLU(inplace=True)\n",
              "    (5): BatchNorm2d(640, eps=1e-05, momentum=0.1, affine=True, track_running_stats=True)\n",
              "  )\n",
              "  (enc3): Sequential(\n",
              "    (0): Conv2d(640, 1280, kernel_size=(3, 3), stride=(1, 1), padding=(1, 1))\n",
              "    (1): ReLU(inplace=True)\n",
              "    (2): BatchNorm2d(1280, eps=1e-05, momentum=0.1, affine=True, track_running_stats=True)\n",
              "    (3): Conv2d(1280, 1280, kernel_size=(3, 3), stride=(1, 1), padding=(1, 1))\n",
              "    (4): ReLU(inplace=True)\n",
              "    (5): BatchNorm2d(1280, eps=1e-05, momentum=0.1, affine=True, track_running_stats=True)\n",
              "  )\n",
              "  (upconv3): Sequential(\n",
              "    (0): ConvTranspose2d(1280, 640, kernel_size=(2, 2), stride=(2, 2))\n",
              "    (1): ReLU(inplace=True)\n",
              "    (2): BatchNorm2d(640, eps=1e-05, momentum=0.1, affine=True, track_running_stats=True)\n",
              "  )\n",
              "  (upconv2): Sequential(\n",
              "    (0): ConvTranspose2d(640, 320, kernel_size=(2, 2), stride=(2, 2))\n",
              "    (1): ReLU(inplace=True)\n",
              "    (2): BatchNorm2d(320, eps=1e-05, momentum=0.1, affine=True, track_running_stats=True)\n",
              "  )\n",
              "  (global_avg_pool): AdaptiveAvgPool2d(output_size=1)\n",
              "  (fc): Linear(in_features=320, out_features=10, bias=True)\n",
              ")"
            ]
          },
          "metadata": {},
          "execution_count": 5
        }
      ]
    },
    {
      "cell_type": "code",
      "execution_count": null,
      "metadata": {
        "colab": {
          "base_uri": "https://localhost:8080/"
        },
        "collapsed": true,
        "id": "jXTwniB9MIYR",
        "outputId": "379280b9-3bab-4ed1-9043-efdd9e1e7711"
      },
      "outputs": [
        {
          "output_type": "stream",
          "name": "stdout",
          "text": [
            "torch.Size([10000, 3, 32, 32])\n",
            "torch.Size([32, 10])\n",
            "this is the 0 batch\n",
            "['automobile', 'automobile', 'ship', 'dog', 'cat', 'frog', 'dog', 'horse', 'cat', 'cat', 'cat', 'cat', 'cat', 'cat', 'dog', 'cat', 'dog', 'automobile', 'automobile', 'automobile', 'dog', 'ship', 'ship', 'cat', 'cat', 'deer', 'cat', 'ship', 'cat', 'automobile', 'ship', 'dog']\n",
            "['bird', 'bird', 'ship', 'deer', 'cat', 'automobile', 'bird', 'frog', 'truck', 'horse', 'automobile', 'deer', 'dog', 'truck', 'frog', 'frog', 'automobile', 'bird', 'dog', 'dog', 'frog', 'ship', 'airplane', 'frog', 'cat', 'deer', 'cat', 'airplane', 'frog', 'bird', 'truck', 'automobile']\n"
          ]
        }
      ],
      "source": [
        "def preprocess(data):\n",
        "  img_data = data.reshape(-1, 3, 32, 32)\n",
        "  img_data = img_data.float()/255.0\n",
        "  mean = torch.tensor([0.485, 0.456, 0.406])\n",
        "  std = torch.tensor([0.229, 0.224, 0.225])\n",
        "  mean = mean[None, :, None, None]\n",
        "  std = std[None, :, None, None]\n",
        "  normalized_images = (img_data - mean) / std\n",
        "  return normalized_images\n",
        "img_data = preprocess(img_data)\n",
        "print(img_data.shape)\n",
        "\n",
        "class VisionDataset(Dataset):\n",
        "  def __init__(self, data, label, preprocess):\n",
        "    super().__init__()\n",
        "    # data: [num_batches, num_channel, height, width]\n",
        "    self.label = label\n",
        "    self.preprocess = preprocess\n",
        "    self.data = preprocess(data)\n",
        "  def __len__(self):\n",
        "    return len(self.data)\n",
        "\n",
        "  def __getitem__(self, idx):\n",
        "    img = self.data[idx]\n",
        "    label = self.label[idx]\n",
        "    return img, label\n",
        "\n",
        "\n",
        "train_set = VisionDataset(img_data[0:8000], img_label[0:8000], preprocess)\n",
        "val_set = VisionDataset(img_data[8000:9984], img_label[8000:9984], preprocess)\n",
        "\n",
        "batch_size = 32\n",
        "train_loader = DataLoader(train_set, batch_size, shuffle=True)\n",
        "val_loader = DataLoader(val_set, batch_size, shuffle=False)\n",
        "\n",
        "\n",
        "for num, (img, label) in enumerate(train_loader):\n",
        "  max_list = []\n",
        "  logits = vision_model(img)\n",
        "  pred = nn.functional.softmax(logits, dim=-1)\n",
        "  print(pred.shape)\n",
        "  for each_list in pred:\n",
        "    max_value, max_index = each_list.max(0)\n",
        "    max_list.append(max_index.item())\n",
        "    pred = [label_name[i] for i in max_list]\n",
        "    value = [label_name[i] for i in label]\n",
        "  print(f\"this is the {num} batch\")\n",
        "  print(pred)\n",
        "  print(value)\n",
        "  break"
      ]
    },
    {
      "cell_type": "code",
      "source": [],
      "metadata": {
        "id": "yk1tpAmb4TJ9"
      },
      "execution_count": null,
      "outputs": []
    },
    {
      "cell_type": "code",
      "execution_count": null,
      "metadata": {
        "id": "MpG1H_726msp"
      },
      "outputs": [],
      "source": [
        "from torch.optim import Adam\n",
        "from torch.nn import CrossEntropyLoss\n",
        "\n",
        "optimizer = Adam(vision_model.parameters(), lr=1e-4)\n",
        "criterion = CrossEntropyLoss()\n",
        "\n",
        "best_val_loss = float('inf')\n",
        "patience = 10\n",
        "counter = 0\n",
        "\n",
        "for epoch in range(100):  # 最大训练 100 个 epoch\n",
        "    # 训练阶段\n",
        "    vision_model.train()\n",
        "    for img, label in train_loader:\n",
        "        optimizer.zero_grad()\n",
        "        output = vision_model(img)\n",
        "        loss = criterion(output, label)\n",
        "        loss.backward()\n",
        "        optimizer.step()\n",
        "\n",
        "    # 验证阶段\n",
        "    vision_model.eval()\n",
        "    val_loss = 0\n",
        "    with torch.no_grad():\n",
        "        for img, label in val_loader:\n",
        "            output = vision_model(img)\n",
        "            val_loss += criterion(output, label).item()\n",
        "    val_loss /= len(val_loader)\n",
        "\n",
        "    print(f\"Epoch {epoch}, Validation Loss: {val_loss:.4f}\")\n",
        "\n",
        "    # Early stopping\n",
        "    if val_loss < best_val_loss:\n",
        "        best_val_loss = val_loss\n",
        "        counter = 0  # 重置 patience 计数\n",
        "    else:\n",
        "        counter += 1\n",
        "        if counter >= patience:\n",
        "            print(\"Early stopping triggered.\")\n",
        "            break"
      ]
    }
  ]
}